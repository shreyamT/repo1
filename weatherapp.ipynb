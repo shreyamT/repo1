{
 "cells": [
  {
   "cell_type": "code",
   "execution_count": 1,
   "id": "da63092a",
   "metadata": {
    "_cell_guid": "b1076dfc-b9ad-4769-8c92-a6c4dae69d19",
    "_uuid": "8f2839f25d086af736a60e9eeb907d3b93b6e0e5",
    "execution": {
     "iopub.execute_input": "2025-01-12T08:54:22.721992Z",
     "iopub.status.busy": "2025-01-12T08:54:22.721606Z",
     "iopub.status.idle": "2025-01-12T08:54:25.277899Z",
     "shell.execute_reply": "2025-01-12T08:54:25.276628Z"
    },
    "papermill": {
     "duration": 2.564379,
     "end_time": "2025-01-12T08:54:25.280398",
     "exception": false,
     "start_time": "2025-01-12T08:54:22.716019",
     "status": "completed"
    },
    "tags": []
   },
   "outputs": [],
   "source": [
    "import requests\n",
    "import pandas as pd\n",
    "import numpy as np\n",
    "from sklearn.model_selection import train_test_split\n",
    "from sklearn.metrics import mean_squared_error\n",
    "from sklearn.preprocessing import LabelEncoder\n",
    "from sklearn.ensemble import RandomForestClassifier, RandomForestRegressor\n",
    "from datetime import datetime, timedelta\n",
    "import pytz"
   ]
  },
  {
   "cell_type": "code",
   "execution_count": 2,
   "id": "c70dac47",
   "metadata": {
    "execution": {
     "iopub.execute_input": "2025-01-12T08:54:25.288390Z",
     "iopub.status.busy": "2025-01-12T08:54:25.287858Z",
     "iopub.status.idle": "2025-01-12T08:54:25.292533Z",
     "shell.execute_reply": "2025-01-12T08:54:25.291625Z"
    },
    "papermill": {
     "duration": 0.010808,
     "end_time": "2025-01-12T08:54:25.294536",
     "exception": false,
     "start_time": "2025-01-12T08:54:25.283728",
     "status": "completed"
    },
    "tags": []
   },
   "outputs": [],
   "source": [
    "BASE_URL= 'https://api.openweathermap.org/data/2.5/'\n",
    "API_KEY='cb6888afcc7062ec5277c708a99bf566'\n"
   ]
  },
  {
   "cell_type": "code",
   "execution_count": 3,
   "id": "d7914470",
   "metadata": {
    "execution": {
     "iopub.execute_input": "2025-01-12T08:54:25.302063Z",
     "iopub.status.busy": "2025-01-12T08:54:25.301702Z",
     "iopub.status.idle": "2025-01-12T08:54:25.310680Z",
     "shell.execute_reply": "2025-01-12T08:54:25.309691Z"
    },
    "papermill": {
     "duration": 0.015069,
     "end_time": "2025-01-12T08:54:25.312700",
     "exception": false,
     "start_time": "2025-01-12T08:54:25.297631",
     "status": "completed"
    },
    "tags": []
   },
   "outputs": [],
   "source": [
    "def get_current_weather(city):\n",
    "    url = f\"{BASE_URL}weather?q={city}&appid={API_KEY}&units=metric\"\n",
    "    response = requests.get(url)\n",
    "    \n",
    "    if response.status_code != 200:\n",
    "        return {\"error\": f\"Failed to fetch data: {response.status_code}, {response.text}\"}\n",
    "    \n",
    "    data = response.json()\n",
    "    \n",
    "    if 'main' not in data or 'weather' not in data:\n",
    "        return {\"error\": \"Incomplete data received from API\"}\n",
    "    \n",
    "    return {\n",
    "        'city': data['name'],\n",
    "        'current_temp': round(data['main']['temp']),\n",
    "        'feels_like': round(data['main']['feels_like']),\n",
    "        'temp_min': round(data['main']['temp_min']),\n",
    "        'temp_max': round(data['main']['temp_max']),\n",
    "        'humidity': round(data['main']['humidity']),\n",
    "        'description': data['weather'][0]['description'],\n",
    "        'country': data['sys']['country'],\n",
    "        'wind_gust_dir': data['wind']['deg'],\n",
    "        'pressure': data['main']['pressure'],\n",
    "        'wind_gust_speed': data['wind']['speed']\n",
    "    }\n"
   ]
  },
  {
   "cell_type": "code",
   "execution_count": 4,
   "id": "161e3b1a",
   "metadata": {
    "execution": {
     "iopub.execute_input": "2025-01-12T08:54:25.320258Z",
     "iopub.status.busy": "2025-01-12T08:54:25.319877Z",
     "iopub.status.idle": "2025-01-12T08:54:25.325474Z",
     "shell.execute_reply": "2025-01-12T08:54:25.324496Z"
    },
    "papermill": {
     "duration": 0.011821,
     "end_time": "2025-01-12T08:54:25.327688",
     "exception": false,
     "start_time": "2025-01-12T08:54:25.315867",
     "status": "completed"
    },
    "tags": []
   },
   "outputs": [],
   "source": [
    "def read_historical_data(filename):\n",
    "    try:\n",
    "        df = pd.read_csv(filename)\n",
    "        df = df.dropna()\n",
    "        df = df.drop_duplicates()\n",
    "        return df\n",
    "    except FileNotFoundError:\n",
    "        print(f\"Error: The file {filename} does not exist.\")\n",
    "    except pd.errors.EmptyDataError:\n",
    "        print(f\"Error: The file {filename} is empty or corrupted.\")\n",
    "    except Exception as e:\n",
    "        print(f\"An unexpected error occurred: {e}\")\n",
    "        return pd.DataFrame()  # Return an empty DataFrame as fallback\n"
   ]
  },
  {
   "cell_type": "code",
   "execution_count": 5,
   "id": "665d1088",
   "metadata": {
    "execution": {
     "iopub.execute_input": "2025-01-12T08:54:25.335323Z",
     "iopub.status.busy": "2025-01-12T08:54:25.334957Z",
     "iopub.status.idle": "2025-01-12T08:54:25.340342Z",
     "shell.execute_reply": "2025-01-12T08:54:25.339365Z"
    },
    "papermill": {
     "duration": 0.011497,
     "end_time": "2025-01-12T08:54:25.342267",
     "exception": false,
     "start_time": "2025-01-12T08:54:25.330770",
     "status": "completed"
    },
    "tags": []
   },
   "outputs": [],
   "source": [
    "def prepare_data(data):\n",
    "    le = LabelEncoder()\n",
    "    data['WindGustDir'] = le.fit_transform(data['WindGustDir'])\n",
    "    data['RainTomorrow'] = le.fit_transform(data['RainTomorrow'])\n",
    "\n",
    "    x = data[['MinTemp', 'MaxTemp', 'WindGustDir', 'WindGustSpeed', 'Humidity', 'Pressure', 'Temp']]\n",
    "    y = data['RainTomorrow']\n",
    "    \n",
    "    return x, y, le\n",
    "\n",
    "    \n",
    "    "
   ]
  },
  {
   "cell_type": "code",
   "execution_count": 6,
   "id": "46804821",
   "metadata": {
    "execution": {
     "iopub.execute_input": "2025-01-12T08:54:25.350667Z",
     "iopub.status.busy": "2025-01-12T08:54:25.349721Z",
     "iopub.status.idle": "2025-01-12T08:54:25.355248Z",
     "shell.execute_reply": "2025-01-12T08:54:25.354424Z"
    },
    "papermill": {
     "duration": 0.011828,
     "end_time": "2025-01-12T08:54:25.357219",
     "exception": false,
     "start_time": "2025-01-12T08:54:25.345391",
     "status": "completed"
    },
    "tags": []
   },
   "outputs": [],
   "source": [
    "def train_rain_model(x, y):\n",
    "    x_train, x_test, y_train, y_test = train_test_split(x, y, test_size=0.2, random_state=42)\n",
    "    model = RandomForestClassifier(n_estimators=100, random_state=42)\n",
    "    model.fit(x_train, y_train)\n",
    "\n",
    "    y_pred = model.predict(x_test)\n",
    "    print(f\"Mean Squared Error: {mean_squared_error(y_test, y_pred)}\")\n",
    "\n",
    "    return model"
   ]
  },
  {
   "cell_type": "code",
   "execution_count": 7,
   "id": "6d111402",
   "metadata": {
    "execution": {
     "iopub.execute_input": "2025-01-12T08:54:25.364757Z",
     "iopub.status.busy": "2025-01-12T08:54:25.364063Z",
     "iopub.status.idle": "2025-01-12T08:54:25.369483Z",
     "shell.execute_reply": "2025-01-12T08:54:25.368558Z"
    },
    "papermill": {
     "duration": 0.011415,
     "end_time": "2025-01-12T08:54:25.371615",
     "exception": false,
     "start_time": "2025-01-12T08:54:25.360200",
     "status": "completed"
    },
    "tags": []
   },
   "outputs": [],
   "source": [
    "def prepare_regression_data(data, feature):\n",
    "    x, y = [], []\n",
    "\n",
    "    for i in range(len(data)-1):\n",
    "        x.append(data[feature].iloc[i])\n",
    "        y.append(data[feature].iloc[i+1])\n",
    "\n",
    "    x = np.array(x).reshape(-1, 1)\n",
    "    y = np.array(y)\n",
    "\n",
    "    return x, y\n"
   ]
  },
  {
   "cell_type": "code",
   "execution_count": 8,
   "id": "b167f859",
   "metadata": {
    "execution": {
     "iopub.execute_input": "2025-01-12T08:54:25.378767Z",
     "iopub.status.busy": "2025-01-12T08:54:25.378416Z",
     "iopub.status.idle": "2025-01-12T08:54:25.383092Z",
     "shell.execute_reply": "2025-01-12T08:54:25.382165Z"
    },
    "papermill": {
     "duration": 0.010379,
     "end_time": "2025-01-12T08:54:25.385013",
     "exception": false,
     "start_time": "2025-01-12T08:54:25.374634",
     "status": "completed"
    },
    "tags": []
   },
   "outputs": [],
   "source": [
    "def train_regression_model(x, y):\n",
    "    model = RandomForestRegressor(n_estimators=100, random_state=42)\n",
    "    model.fit(x, y)\n",
    "    return model"
   ]
  },
  {
   "cell_type": "code",
   "execution_count": 9,
   "id": "27e68061",
   "metadata": {
    "execution": {
     "iopub.execute_input": "2025-01-12T08:54:25.393687Z",
     "iopub.status.busy": "2025-01-12T08:54:25.393056Z",
     "iopub.status.idle": "2025-01-12T08:54:25.398277Z",
     "shell.execute_reply": "2025-01-12T08:54:25.397295Z"
    },
    "papermill": {
     "duration": 0.012001,
     "end_time": "2025-01-12T08:54:25.400221",
     "exception": false,
     "start_time": "2025-01-12T08:54:25.388220",
     "status": "completed"
    },
    "tags": []
   },
   "outputs": [],
   "source": [
    "def predict_future(model, current_value):\n",
    "    predictions = [current_value]\n",
    "\n",
    "    for i in range(5):\n",
    "        next_value = model.predict(np.array([[predictions[-1]]]))\n",
    "        predictions.append(next_value[0])\n",
    "\n",
    "    return predictions[1:]\n"
   ]
  },
  {
   "cell_type": "code",
   "execution_count": 10,
   "id": "717437cb",
   "metadata": {
    "execution": {
     "iopub.execute_input": "2025-01-12T08:54:25.408179Z",
     "iopub.status.busy": "2025-01-12T08:54:25.407810Z",
     "iopub.status.idle": "2025-01-12T08:54:25.420889Z",
     "shell.execute_reply": "2025-01-12T08:54:25.419855Z"
    },
    "papermill": {
     "duration": 0.019763,
     "end_time": "2025-01-12T08:54:25.422964",
     "exception": false,
     "start_time": "2025-01-12T08:54:25.403201",
     "status": "completed"
    },
    "tags": []
   },
   "outputs": [],
   "source": [
    "def weather_view():\n",
    "    city = input(\"Enter city: \")\n",
    "    current_weather = get_current_weather(city)\n",
    "\n",
    "    # Read historical data and prepare models\n",
    "    historical_data = read_historical_data('/kaggle/input/weather2/weather.csv')\n",
    "\n",
    "    x, y, le = prepare_data(historical_data)\n",
    "    rain_model = train_rain_model(x, y)\n",
    "\n",
    "    # Process wind direction and encode it\n",
    "    wind_deg = current_weather['wind_gust_dir'] % 360\n",
    "    compass_points = [\n",
    "        (\"N\", 0, 11.25), (\"NNE\", 11.25, 33.75), (\"NE\", 33.75, 56.25),\n",
    "        (\"ENE\", 56.25, 78.75), (\"E\", 78.75, 101.25), (\"ESE\", 101.25, 123.75),\n",
    "        (\"SE\", 123.75, 146.25), (\"SSE\", 146.25, 168.75), (\"S\", 168.75, 191.25),\n",
    "        (\"SSW\", 191.25, 213.75), (\"SW\", 213.75, 236.25), (\"WSW\", 236.25, 258.75),\n",
    "        (\"W\", 258.75, 281.25), (\"WNW\", 281.25, 303.75), (\"NW\", 303.75, 326.25),\n",
    "        (\"NNW\", 326.25, 348.75)\n",
    "    ]\n",
    "    compass_direction = next(point for point, start, end in compass_points if start <= wind_deg < end)\n",
    "    compass_direction_encoded = le.transform([compass_direction])[0] if compass_direction in le.classes_ else -1\n",
    "\n",
    "    # Prepare current weather data for prediction\n",
    "    current_data = {\n",
    "        'MinTemp': current_weather['temp_min'],\n",
    "        'MaxTemp': current_weather['temp_max'],\n",
    "        'WindGustDir': compass_direction_encoded,\n",
    "        'WindGustSpeed': current_weather['wind_gust_speed'],\n",
    "        'Humidity': current_weather['humidity'],\n",
    "        'Pressure': current_weather['pressure'],\n",
    "        'Temp': current_weather['current_temp']\n",
    "    }\n",
    "\n",
    "    current_df = pd.DataFrame([current_data])\n",
    "\n",
    "    # Make rain prediction\n",
    "    rain_prediction = rain_model.predict(current_df)[0]\n",
    "\n",
    "    # Train models for temperature and humidity predictions\n",
    "    x_temp, y_temp = prepare_regression_data(historical_data, 'Temp')\n",
    "    x_hum, y_hum = prepare_regression_data(historical_data, 'Humidity')\n",
    "\n",
    "    temp_model = train_regression_model(x_temp, y_temp)\n",
    "    hum_model = train_regression_model(x_hum, y_hum)\n",
    "\n",
    "    # Make future predictions for temperature and humidity\n",
    "    future_temp = predict_future(temp_model, current_weather['temp_min'])\n",
    "    future_hum = predict_future(hum_model, current_weather['humidity'])\n",
    "\n",
    "    # Get current time and generate future times\n",
    "    timezone = pytz.timezone('Asia/Kolkata')\n",
    "    now = datetime.now(timezone)\n",
    "    next_hour = now + timedelta(hours=1)\n",
    "    next_hour = next_hour.replace(minute=0, second=0, microsecond=0)\n",
    "\n",
    "    future_times = [(next_hour + timedelta(hours=i)).strftime(\"%H:00\") for i in range(5)]\n",
    "\n",
    "    # Display current and future weather details\n",
    "    print(f\"City: {city}, {current_weather['country']}\")\n",
    "    print(f\"Current Temp: {current_weather['current_temp']}C\")\n",
    "    print(f\"Feels Like: {current_weather['feels_like']}C\")\n",
    "    print(f\"Min Temp: {current_weather['temp_min']}C\")\n",
    "    print(f\"Max Temp: {current_weather['temp_max']}C\")\n",
    "    print(f\"Humiity: {current_weather['humidity']}%\")\n",
    "    print(f\"Weather Prediction: {current_weather['description']}\")\n",
    "    print(f\"Rain Prediction: {'Yes' if rain_prediction else 'No'}\")\n",
    "\n",
    "    print(\"\\nFuture Temp: \")\n",
    "    for time, temp in zip(future_times, future_temp):\n",
    "        print(f\"{time}: {round(temp, 1)}C\")\n",
    "    \n",
    "    print(\"\\nFuture Humidity: \")\n",
    "    for time, humidity in zip(future_times, future_hum):\n",
    "        print(f\"{time}: {round(humidity, 1)}%\")"
   ]
  },
  {
   "cell_type": "code",
   "execution_count": 11,
   "id": "10b544d3",
   "metadata": {
    "execution": {
     "iopub.execute_input": "2025-01-12T08:54:25.431022Z",
     "iopub.status.busy": "2025-01-12T08:54:25.430058Z",
     "iopub.status.idle": "2025-01-12T08:54:25.434760Z",
     "shell.execute_reply": "2025-01-12T08:54:25.433787Z"
    },
    "papermill": {
     "duration": 0.010719,
     "end_time": "2025-01-12T08:54:25.436685",
     "exception": false,
     "start_time": "2025-01-12T08:54:25.425966",
     "status": "completed"
    },
    "tags": []
   },
   "outputs": [],
   "source": [
    "#weather_view()"
   ]
  }
 ],
 "metadata": {
  "kaggle": {
   "accelerator": "none",
   "dataSources": [
    {
     "datasetId": 6245842,
     "sourceId": 10121991,
     "sourceType": "datasetVersion"
    }
   ],
   "dockerImageVersionId": 30804,
   "isGpuEnabled": false,
   "isInternetEnabled": true,
   "language": "python",
   "sourceType": "notebook"
  },
  "kernelspec": {
   "display_name": "Python 3",
   "language": "python",
   "name": "python3"
  },
  "language_info": {
   "codemirror_mode": {
    "name": "ipython",
    "version": 3
   },
   "file_extension": ".py",
   "mimetype": "text/x-python",
   "name": "python",
   "nbconvert_exporter": "python",
   "pygments_lexer": "ipython3",
   "version": "3.10.14"
  },
  "papermill": {
   "default_parameters": {},
   "duration": 6.401548,
   "end_time": "2025-01-12T08:54:26.061162",
   "environment_variables": {},
   "exception": null,
   "input_path": "__notebook__.ipynb",
   "output_path": "__notebook__.ipynb",
   "parameters": {},
   "start_time": "2025-01-12T08:54:19.659614",
   "version": "2.6.0"
  }
 },
 "nbformat": 4,
 "nbformat_minor": 5
}
